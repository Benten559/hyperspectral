{
 "cells": [
  {
   "cell_type": "markdown",
   "metadata": {},
   "source": [
    "### Goal 1:\n",
    "#### Create a logical mask from Eve's color-coded clustering\n",
    "#### Red channel is foreground <br>\n",
    "* Apply the mask to a composite rgb of the original HSI"
   ]
  },
  {
   "cell_type": "code",
   "execution_count": 17,
   "metadata": {},
   "outputs": [],
   "source": [
    "from spectral import *\n",
    "import spectral.io.envi as envi\n",
    "import cv2\n",
    "import numpy as np\n",
    "from os import listdir\n",
    "from os.path import isfile, join\n",
    "# The direct path to source imagery\n",
    "# path_png = \"V:\\\\Data\\\\St_Supery\\\\IOP6_October2021\\\\tripod\\\\tripod_canopy_2020_211013_090626\\\\mask.png\"\n",
    "# path_hdr = \"V:\\\\Data\\\\St_Supery\\\\IOP6_October2021\\\\tripod\\\\tripod_canopy_2020_211013_090626\\\\canopy_lb_2020_15ms\\\\canopy_lb_2020_15ms_000000\\\\canopy_lb_2020_15ms_000000.hdr\"\n",
    "\n",
    "# load images into workspace\n",
    "# img_png = cv2.imread(path_png)\n",
    "# obj_envi = envi.open(path_hdr)\n",
    "\n",
    "# img_png = cv2.cvtColor(img_png, cv2.COLOR_BGR2RGB)\n",
    "# imshow(img_png)\n",
    "# imshow(img_png[:,:,2] == img_png[:,:,1])\n",
    "\n",
    "# Logical mask\n",
    "# bitmap_mask = (img_png[:,:,2] == img_png[:,:,1]).astype(np.int8) * 255\n",
    "# bitmap_mask= bitmap_mask.astype(np.int8)\n",
    "# cv2.imwrite('out_test_Mask.png',bitmap_mask)\n",
    "\n",
    "# Load the hypercube and create its rgb composite\n",
    "# hcube_tripod = obj_envi.load()"
   ]
  },
  {
   "cell_type": "code",
   "execution_count": null,
   "metadata": {},
   "outputs": [],
   "source": [
    "# r = hcube_tripod[:,:,14]\n",
    "# g = hcube_tripod[:,:,30]\n",
    "# b = hcube_tripod[:,:,7]\n",
    "\n",
    "# rgb = cv2.merge([r,g,b])\n",
    "# img_segmented = cv2.bitwise_and(rgb,rgb,mask =bitmap_mask)\n",
    "# imshow(img_segmented)\n",
    "# cv2.imwrite(\"img_appliedMaskTest.jpg\",img_segmented)"
   ]
  },
  {
   "cell_type": "markdown",
   "metadata": {},
   "source": [
    "### Goal 2:\n",
    "\n",
    "#### Make CSV ::> txt file for:\n",
    "* Training/Validation: /home/path/to/image1.jpg, /home/path/to/label1.png"
   ]
  },
  {
   "cell_type": "code",
   "execution_count": 12,
   "metadata": {},
   "outputs": [],
   "source": [
    "path_images = 'C:\\\\Users\\\\15593\\\\Documents\\\\repos\\\\hyperspectral\\\\TripodAnalysis\\\\SegNet\\\\Training Data\\\\IOP6_RGB_Images'\n",
    "path_labels = 'C:\\\\Users\\\\15593\\\\Documents\\\\repos\\\\hyperspectral\\\\TripodAnalysis\\\\SegNet\\\\Training Data\\\\IOP6_Mask_Labels'\n",
    "labels = listdir(path_labels)\n",
    "images = listdir(path_images)"
   ]
  },
  {
   "cell_type": "code",
   "execution_count": 55,
   "metadata": {},
   "outputs": [],
   "source": [
    "matchedLabels = [[f'{join(path_images,x[:-3]+\"jpg\")}, {join(path_labels,x[:-3])}png'] for x in labels if isfile(join(path_images,f'{x[:-3]}jpg')) ]"
   ]
  },
  {
   "cell_type": "code",
   "execution_count": 52,
   "metadata": {},
   "outputs": [
    {
     "data": {
      "text/plain": [
       "['C:\\\\Users\\\\15593\\\\Documents\\\\repos\\\\hyperspectral\\\\TripodAnalysis\\\\SegNet\\\\Training Data\\\\IOP6_RGB_Images\\\\tripod_canopy_2020_211013_090540_15ms.jpg, C:\\\\Users\\\\15593\\\\Documents\\\\repos\\\\hyperspectral\\\\TripodAnalysis\\\\SegNet\\\\Training Data\\\\IOP6_Mask_Labels\\\\tripod_canopy_2020_211013_090540_15ms.png']"
      ]
     },
     "execution_count": 52,
     "metadata": {},
     "output_type": "execute_result"
    }
   ],
   "source": [
    "len(matchedLabels)\n",
    "matchedLabels[0]"
   ]
  },
  {
   "cell_type": "code",
   "execution_count": 56,
   "metadata": {},
   "outputs": [],
   "source": [
    "trainData = matchedLabels[:180]\n",
    "validationData = matchedLabels[181:]"
   ]
  },
  {
   "cell_type": "code",
   "execution_count": 57,
   "metadata": {},
   "outputs": [
    {
     "data": {
      "text/plain": [
       "['C:\\\\Users\\\\15593\\\\Documents\\\\repos\\\\hyperspectral\\\\TripodAnalysis\\\\SegNet\\\\Training Data\\\\IOP6_RGB_Images\\\\tripod_canopy_2020_211013_122101_15ms.jpg, C:\\\\Users\\\\15593\\\\Documents\\\\repos\\\\hyperspectral\\\\TripodAnalysis\\\\SegNet\\\\Training Data\\\\IOP6_Mask_Labels\\\\tripod_canopy_2020_211013_122101_15ms.png']"
      ]
     },
     "execution_count": 57,
     "metadata": {},
     "output_type": "execute_result"
    }
   ],
   "source": [
    "validationData[0]"
   ]
  },
  {
   "cell_type": "code",
   "execution_count": 53,
   "metadata": {},
   "outputs": [],
   "source": [
    "with open('train.txt', 'w') as the_file:\n",
    "    for path_img_label in trainData:\n",
    "        the_file.write(f'{path_img_label[0]}\\n')\n",
    "\n",
    "with open('val.txt','w') as the_file:\n",
    "    for path_img_label in validationData:\n",
    "        the_file.write(f'{path_img_label[0]}\\n')"
   ]
  },
  {
   "cell_type": "markdown",
   "metadata": {},
   "source": [
    "#### Goal: \n",
    "##### Prepare the RGB images if it has a mask-label counterpart"
   ]
  },
  {
   "cell_type": "code",
   "execution_count": 23,
   "metadata": {},
   "outputs": [],
   "source": [
    "# To do: Place all rgb images that have a matching bitmap mask in a separate folder : \"RGB_Train_Images\"\n",
    " \n",
    "# import cv2\n",
    "# import numpy as np\n",
    "# from os import listdir\n",
    "# from os.path import isfile, join\n",
    "\n",
    "# Make list of both directories\n",
    "path_rgbDir = \"C:\\\\Users\\\\15593\\\\Documents\\\\repos\\\\hyperspectral\\\\TripodAnalysis\\\\SegNet\\\\IOP6_Train_RGB_Images\"#C:\\\\Users\\\\15593\\\\Documents\\\\repos\\\\hyperspectral\\\\TripodAnalysis\\\\SegNet\\\\Training Data\\\\IOP6_RGB_Images\"\n",
    "path_labels = \"C:\\\\Users\\\\15593\\\\Documents\\\\repos\\\\hyperspectral\\\\TripodAnalysis\\\\SegNet\\\\Training Data\\\\IOP6_Mask_Labels\"\n",
    "# All RGB images:\n",
    "list_rgb_images = [x for x in listdir(path_rgbDir)]\n",
    "# All bit mask labels:\n",
    "list_mask_labels = [x for x in listdir(path_labels)]\n"
   ]
  },
  {
   "cell_type": "code",
   "execution_count": null,
   "metadata": {},
   "outputs": [],
   "source": []
  },
  {
   "cell_type": "code",
   "execution_count": null,
   "metadata": {},
   "outputs": [],
   "source": [
    "\n",
    "for img in list_rgb_images:\n",
    "    for label in list_mask_labels:\n",
    "        if img[:-4] in label:\n",
    "            print(f\"found: {img} matched to {label}\")\n",
    "            img_labelMatch = cv2.imread(join(path_rgbDir,img))\n",
    "            cv2.imwrite(join('C:\\\\Users\\\\15593\\\\Documents\\\\repos\\\\hyperspectral\\\\TripodAnalysis\\\\SegNet\\\\IOP6_Train_RGB_Images',img), img_labelMatch)\n",
    "\n"
   ]
  },
  {
   "cell_type": "code",
   "execution_count": 26,
   "metadata": {},
   "outputs": [
    {
     "data": {
      "text/plain": [
       "246"
      ]
     },
     "execution_count": 26,
     "metadata": {},
     "output_type": "execute_result"
    }
   ],
   "source": [
    "len(list_rgb_images)"
   ]
  },
  {
   "cell_type": "code",
   "execution_count": 29,
   "metadata": {},
   "outputs": [
    {
     "name": "stdout",
     "output_type": "stream",
     "text": [
      "Could not find tripod_canopy_2020_211013_104054_15ms.png\n",
      "Could not find tripod_canopy_2020_211013_104213_15ms.png\n",
      "Could not find tripod_canopy_2020_211013_111020_15ms.png\n",
      "Could not find tripod_canopy_2020_211013_131329_15ms.png\n"
     ]
    }
   ],
   "source": [
    "\n",
    "for label in list_mask_labels:\n",
    "    matched = False\n",
    "    if any(label[:-4] in s for s in list_rgb_images):\n",
    "        # print(f\"found {label}\")\n",
    "        matched = True\n",
    "        continue\n",
    "    if not matched:\n",
    "        print(f\"Could not find {label}\")\n",
    "    "
   ]
  },
  {
   "cell_type": "code",
   "execution_count": 25,
   "metadata": {},
   "outputs": [
    {
     "name": "stdout",
     "output_type": "stream",
     "text": [
      "tripod_canopy_2020_211013_090540_15ms.png Not matched\n",
      "tripod_canopy_2020_211013_090626_15ms.png Not matched\n",
      "tripod_canopy_2020_211013_090720_15ms.png Not matched\n",
      "tripod_canopy_2020_211013_090811_15ms.png Not matched\n",
      "tripod_canopy_2020_211013_090857_15ms.png Not matched\n",
      "tripod_canopy_2020_211013_090946_15ms.png Not matched\n",
      "tripod_canopy_2020_211013_091111_15ms.png Not matched\n",
      "tripod_canopy_2020_211013_091220_15ms.png Not matched\n",
      "tripod_canopy_2020_211013_091305_15ms.png Not matched\n",
      "tripod_canopy_2020_211013_091353_15ms.png Not matched\n",
      "tripod_canopy_2020_211013_091433_15ms.png Not matched\n",
      "tripod_canopy_2020_211013_091523_15ms.png Not matched\n",
      "tripod_canopy_2020_211013_091621_15ms.png Not matched\n",
      "tripod_canopy_2020_211013_091708_15ms.png Not matched\n",
      "tripod_canopy_2020_211013_091750_15ms.png Not matched\n",
      "tripod_canopy_2020_211013_091838_15ms.png Not matched\n",
      "tripod_canopy_2020_211013_091927_15ms.png Not matched\n",
      "tripod_canopy_2020_211013_092024_15ms.png Not matched\n",
      "tripod_canopy_2020_211013_092130_15ms.png Not matched\n",
      "tripod_canopy_2020_211013_092210_15ms.png Not matched\n",
      "tripod_canopy_2020_211013_092303_15ms.png Not matched\n",
      "tripod_canopy_2020_211013_092342_15ms.png Not matched\n",
      "tripod_canopy_2020_211013_092438_15ms.png Not matched\n",
      "tripod_canopy_2020_211013_092538_15ms.png Not matched\n",
      "tripod_canopy_2020_211013_092628_15ms.png Not matched\n",
      "tripod_canopy_2020_211013_092717_15ms.png Not matched\n",
      "tripod_canopy_2020_211013_092804_15ms.png Not matched\n",
      "tripod_canopy_2020_211013_092849_15ms.png Not matched\n",
      "tripod_canopy_2020_211013_092950_15ms.png Not matched\n",
      "tripod_canopy_2020_211013_093034_15ms.png Not matched\n",
      "tripod_canopy_2020_211013_093126_15ms.png Not matched\n",
      "tripod_canopy_2020_211013_093205_15ms.png Not matched\n",
      "tripod_canopy_2020_211013_093254_15ms.png Not matched\n",
      "tripod_canopy_2020_211013_093340_15ms.png Not matched\n",
      "tripod_canopy_2020_211013_093427_15ms.png Not matched\n",
      "tripod_canopy_2020_211013_093528_15ms.png Not matched\n",
      "tripod_canopy_2020_211013_093623_15ms.png Not matched\n",
      "tripod_canopy_2020_211013_093710_15ms.png Not matched\n",
      "tripod_canopy_2020_211013_094407_15ms.png Not matched\n",
      "tripod_canopy_2020_211013_094603_15ms.png Not matched\n",
      "tripod_canopy_2020_211013_095008_15ms.png Not matched\n",
      "tripod_canopy_2020_211013_095046_15ms.png Not matched\n",
      "tripod_canopy_2020_211013_095230_15ms.png Not matched\n",
      "tripod_canopy_2020_211013_095323_15ms.png Not matched\n",
      "tripod_canopy_2020_211013_095406_15ms.png Not matched\n",
      "tripod_canopy_2020_211013_095445_15ms.png Not matched\n",
      "tripod_canopy_2020_211013_095530_15ms.png Not matched\n",
      "tripod_canopy_2020_211013_095629_15ms.png Not matched\n",
      "tripod_canopy_2020_211013_095722_15ms.png Not matched\n",
      "tripod_canopy_2020_211013_095821_15ms.png Not matched\n",
      "tripod_canopy_2020_211013_095916_15ms.png Not matched\n",
      "tripod_canopy_2020_211013_100020_15ms.png Not matched\n",
      "tripod_canopy_2020_211013_100147_15ms.png Not matched\n",
      "tripod_canopy_2020_211013_100235_15ms.png Not matched\n",
      "tripod_canopy_2020_211013_100914_15ms.png Not matched\n",
      "tripod_canopy_2020_211013_101012_15ms.png Not matched\n",
      "tripod_canopy_2020_211013_101122_15ms.png Not matched\n",
      "tripod_canopy_2020_211013_101214_15ms.png Not matched\n",
      "tripod_canopy_2020_211013_101255_15ms.png Not matched\n",
      "tripod_canopy_2020_211013_101329_15ms.png Not matched\n",
      "tripod_canopy_2020_211013_101406_15ms.png Not matched\n",
      "tripod_canopy_2020_211013_101449_15ms.png Not matched\n",
      "tripod_canopy_2020_211013_101529_15ms.png Not matched\n",
      "tripod_canopy_2020_211013_101618_15ms.png Not matched\n",
      "tripod_canopy_2020_211013_101709_15ms.png Not matched\n",
      "tripod_canopy_2020_211013_101751_15ms.png Not matched\n",
      "tripod_canopy_2020_211013_102057_15ms.png Not matched\n",
      "tripod_canopy_2020_211013_102208_15ms.png Not matched\n",
      "tripod_canopy_2020_211013_102257_15ms.png Not matched\n",
      "tripod_canopy_2020_211013_102342_15ms.png Not matched\n",
      "tripod_canopy_2020_211013_102430_15ms.png Not matched\n",
      "tripod_canopy_2020_211013_103005_15ms.png Not matched\n",
      "tripod_canopy_2020_211013_103108_15ms.png Not matched\n",
      "tripod_canopy_2020_211013_103152_15ms.png Not matched\n",
      "tripod_canopy_2020_211013_103240_15ms.png Not matched\n",
      "tripod_canopy_2020_211013_103333_15ms.png Not matched\n",
      "tripod_canopy_2020_211013_103508_15ms.png Not matched\n",
      "tripod_canopy_2020_211013_103557_15ms.png Not matched\n",
      "tripod_canopy_2020_211013_103639_15ms.png Not matched\n",
      "tripod_canopy_2020_211013_103729_15ms.png Not matched\n",
      "tripod_canopy_2020_211013_103811_15ms.png Not matched\n",
      "tripod_canopy_2020_211013_103915_15ms.png Not matched\n",
      "tripod_canopy_2020_211013_104006_15ms.png Not matched\n",
      "tripod_canopy_2020_211013_104054_15ms.png Not matched\n",
      "tripod_canopy_2020_211013_104131_15ms.png Not matched\n",
      "tripod_canopy_2020_211013_104213_15ms.png Not matched\n",
      "tripod_canopy_2020_211013_104302_15ms.png Not matched\n",
      "tripod_canopy_2020_211013_104355_15ms.png Not matched\n",
      "tripod_canopy_2020_211013_104435_15ms.png Not matched\n",
      "tripod_canopy_2020_211013_104513_15ms.png Not matched\n",
      "tripod_canopy_2020_211013_104611_15ms.png Not matched\n",
      "tripod_canopy_2020_211013_104711_15ms.png Not matched\n",
      "tripod_canopy_2020_211013_104801_15ms.png Not matched\n",
      "tripod_canopy_2020_211013_104851_15ms.png Not matched\n",
      "tripod_canopy_2020_211013_104946_15ms.png Not matched\n",
      "tripod_canopy_2020_211013_105036_15ms.png Not matched\n",
      "tripod_canopy_2020_211013_105127_15ms.png Not matched\n",
      "tripod_canopy_2020_211013_105211_15ms.png Not matched\n",
      "tripod_canopy_2020_211013_105247_15ms.png Not matched\n",
      "tripod_canopy_2020_211013_105323_15ms.png Not matched\n",
      "tripod_canopy_2020_211013_105406_15ms.png Not matched\n",
      "tripod_canopy_2020_211013_105444_15ms.png Not matched\n",
      "tripod_canopy_2020_211013_105543_15ms.png Not matched\n",
      "tripod_canopy_2020_211013_105644_15ms.png Not matched\n",
      "tripod_canopy_2020_211013_105721_15ms.png Not matched\n",
      "tripod_canopy_2020_211013_105756_15ms.png Not matched\n",
      "tripod_canopy_2020_211013_105833_15ms.png Not matched\n",
      "tripod_canopy_2020_211013_105913_15ms.png Not matched\n",
      "tripod_canopy_2020_211013_110106_15ms.png Not matched\n",
      "tripod_canopy_2020_211013_110210_15ms.png Not matched\n",
      "tripod_canopy_2020_211013_110313_15ms.png Not matched\n",
      "tripod_canopy_2020_211013_110919_15ms.png Not matched\n",
      "tripod_canopy_2020_211013_111020_15ms.png Not matched\n",
      "tripod_canopy_2020_211013_111119_15ms.png Not matched\n",
      "tripod_canopy_2020_211013_111207_15ms.png Not matched\n",
      "tripod_canopy_2020_211013_111258_15ms.png Not matched\n",
      "tripod_canopy_2020_211013_111344_15ms.png Not matched\n",
      "tripod_canopy_2020_211013_111424_15ms.png Not matched\n",
      "tripod_canopy_2020_211013_111506_15ms.png Not matched\n",
      "tripod_canopy_2020_211013_111544_15ms.png Not matched\n",
      "tripod_canopy_2020_211013_111618_15ms.png Not matched\n",
      "tripod_canopy_2020_211013_111657_15ms.png Not matched\n",
      "tripod_canopy_2020_211013_111729_15ms.png Not matched\n",
      "tripod_canopy_2020_211013_111806_15ms.png Not matched\n",
      "tripod_canopy_2020_211013_111843_15ms.png Not matched\n",
      "tripod_canopy_2020_211013_111935_15ms.png Not matched\n",
      "tripod_canopy_2020_211013_112037_15ms.png Not matched\n",
      "tripod_canopy_2020_211013_112145_15ms.png Not matched\n",
      "tripod_canopy_2020_211013_112228_15ms.png Not matched\n",
      "tripod_canopy_2020_211013_112313_15ms.png Not matched\n",
      "tripod_canopy_2020_211013_112354_15ms.png Not matched\n",
      "tripod_canopy_2020_211013_112502_15ms.png Not matched\n",
      "tripod_canopy_2020_211013_112556_15ms.png Not matched\n",
      "tripod_canopy_2020_211013_112641_15ms.png Not matched\n",
      "tripod_canopy_2020_211013_112736_15ms.png Not matched\n",
      "tripod_canopy_2020_211013_112829_15ms.png Not matched\n",
      "tripod_canopy_2020_211013_112917_15ms.png Not matched\n",
      "tripod_canopy_2020_211013_112949_15ms.png Not matched\n",
      "tripod_canopy_2020_211013_113022_15ms.png Not matched\n",
      "tripod_canopy_2020_211013_113121_15ms.png Not matched\n",
      "tripod_canopy_2020_211013_113152_15ms.png Not matched\n",
      "tripod_canopy_2020_211013_113227_15ms.png Not matched\n",
      "tripod_canopy_2020_211013_113318_15ms.png Not matched\n",
      "tripod_canopy_2020_211013_113416_15ms.png Not matched\n",
      "tripod_canopy_2020_211013_113508_15ms.png Not matched\n",
      "tripod_canopy_2020_211013_113547_15ms.png Not matched\n",
      "tripod_canopy_2020_211013_113708_15ms.png Not matched\n",
      "tripod_canopy_2020_211013_113804_15ms.png Not matched\n",
      "tripod_canopy_2020_211013_113905_15ms.png Not matched\n",
      "tripod_canopy_2020_211013_113948_15ms.png Not matched\n",
      "tripod_canopy_2020_211013_114112_15ms.png Not matched\n",
      "tripod_canopy_2020_211013_114842_15ms.png Not matched\n",
      "tripod_canopy_2020_211013_114954_15ms.png Not matched\n",
      "tripod_canopy_2020_211013_115044_15ms.png Not matched\n",
      "tripod_canopy_2020_211013_115139_15ms.png Not matched\n",
      "tripod_canopy_2020_211013_115247_15ms.png Not matched\n",
      "tripod_canopy_2020_211013_115351_15ms.png Not matched\n",
      "tripod_canopy_2020_211013_115448_15ms.png Not matched\n",
      "tripod_canopy_2020_211013_115546_15ms.png Not matched\n",
      "tripod_canopy_2020_211013_115642_15ms.png Not matched\n",
      "tripod_canopy_2020_211013_115721_15ms.png Not matched\n",
      "tripod_canopy_2020_211013_115758_15ms.png Not matched\n",
      "tripod_canopy_2020_211013_115834_15ms.png Not matched\n",
      "tripod_canopy_2020_211013_115919_15ms.png Not matched\n",
      "tripod_canopy_2020_211013_115957_15ms.png Not matched\n",
      "tripod_canopy_2020_211013_120046_15ms.png Not matched\n",
      "tripod_canopy_2020_211013_120127_15ms.png Not matched\n",
      "tripod_canopy_2020_211013_120235_15ms.png Not matched\n",
      "tripod_canopy_2020_211013_120406_15ms.png Not matched\n",
      "tripod_canopy_2020_211013_120439_15ms.png Not matched\n",
      "tripod_canopy_2020_211013_120540_15ms.png Not matched\n",
      "tripod_canopy_2020_211013_120734_15ms.png Not matched\n",
      "tripod_canopy_2020_211013_120822_15ms.png Not matched\n",
      "tripod_canopy_2020_211013_121044_15ms.png Not matched\n",
      "tripod_canopy_2020_211013_121129_15ms.png Not matched\n",
      "tripod_canopy_2020_211013_121221_15ms.png Not matched\n",
      "tripod_canopy_2020_211013_121300_15ms.png Not matched\n",
      "tripod_canopy_2020_211013_121447_15ms.png Not matched\n",
      "tripod_canopy_2020_211013_121531_15ms.png Not matched\n",
      "tripod_canopy_2020_211013_121604_15ms.png Not matched\n",
      "tripod_canopy_2020_211013_121640_15ms.png Not matched\n",
      "tripod_canopy_2020_211013_121717_15ms.png Not matched\n",
      "tripod_canopy_2020_211013_121939_15ms.png Not matched\n",
      "tripod_canopy_2020_211013_122011_15ms.png Not matched\n",
      "tripod_canopy_2020_211013_122101_15ms.png Not matched\n",
      "tripod_canopy_2020_211013_122252_15ms.png Not matched\n",
      "tripod_canopy_2020_211013_122407_15ms.png Not matched\n",
      "tripod_canopy_2020_211013_122510_15ms.png Not matched\n",
      "tripod_canopy_2020_211013_122628_15ms.png Not matched\n",
      "tripod_canopy_2020_211013_122728_15ms.png Not matched\n",
      "tripod_canopy_2020_211013_122925_15ms.png Not matched\n",
      "tripod_canopy_2020_211013_125402_15ms.png Not matched\n",
      "tripod_canopy_2020_211013_125548_15ms.png Not matched\n",
      "tripod_canopy_2020_211013_125625_15ms.png Not matched\n",
      "tripod_canopy_2020_211013_125653_15ms.png Not matched\n",
      "tripod_canopy_2020_211013_125735_15ms.png Not matched\n",
      "tripod_canopy_2020_211013_125850_15ms.png Not matched\n",
      "tripod_canopy_2020_211013_125941_15ms.png Not matched\n",
      "tripod_canopy_2020_211013_130019_15ms.png Not matched\n",
      "tripod_canopy_2020_211013_130055_15ms.png Not matched\n",
      "tripod_canopy_2020_211013_130149_15ms.png Not matched\n",
      "tripod_canopy_2020_211013_130222_15ms.png Not matched\n",
      "tripod_canopy_2020_211013_130314_15ms.png Not matched\n",
      "tripod_canopy_2020_211013_130513_15ms.png Not matched\n",
      "tripod_canopy_2020_211013_130550_15ms.png Not matched\n",
      "tripod_canopy_2020_211013_130628_15ms.png Not matched\n",
      "tripod_canopy_2020_211013_130735_15ms.png Not matched\n",
      "tripod_canopy_2020_211013_130829_15ms.png Not matched\n",
      "tripod_canopy_2020_211013_130946_15ms.png Not matched\n",
      "tripod_canopy_2020_211013_131106_15ms.png Not matched\n",
      "tripod_canopy_2020_211013_131153_15ms.png Not matched\n",
      "tripod_canopy_2020_211013_131249_15ms.png Not matched\n",
      "tripod_canopy_2020_211013_131329_15ms.png Not matched\n",
      "tripod_canopy_2020_211013_131423_15ms.png Not matched\n",
      "tripod_canopy_2020_211013_131506_15ms.png Not matched\n",
      "tripod_canopy_2020_211013_131541_15ms.png Not matched\n",
      "tripod_canopy_2020_211013_131614_15ms.png Not matched\n",
      "tripod_canopy_2020_211013_131649_15ms.png Not matched\n",
      "tripod_canopy_2020_211013_131726_15ms.png Not matched\n",
      "tripod_canopy_2020_211013_132149_15ms.png Not matched\n",
      "tripod_canopy_2020_211013_132333_15ms.png Not matched\n",
      "tripod_canopy_2020_211013_132426_15ms.png Not matched\n",
      "tripod_canopy_2020_211013_132510_15ms.png Not matched\n",
      "tripod_canopy_2020_211013_133016_15ms.png Not matched\n",
      "tripod_canopy_2020_211013_133117_15ms.png Not matched\n",
      "tripod_canopy_2020_211013_133159_15ms.png Not matched\n",
      "tripod_canopy_2020_211013_133237_15ms.png Not matched\n",
      "tripod_canopy_2020_211013_133327_15ms.png Not matched\n",
      "tripod_canopy_2020_211013_133412_15ms.png Not matched\n",
      "tripod_canopy_2020_211013_133506_15ms.png Not matched\n",
      "tripod_canopy_2020_211013_133547_15ms.png Not matched\n",
      "tripod_canopy_2020_211013_133617_15ms.png Not matched\n",
      "tripod_canopy_2020_211013_133700_15ms.png Not matched\n",
      "tripod_canopy_2020_211013_133737_15ms.png Not matched\n",
      "tripod_canopy_2020_211013_133808_15ms.png Not matched\n",
      "tripod_canopy_2020_211013_134143_15ms.png Not matched\n",
      "tripod_canopy_2020_211013_135534_15ms.png Not matched\n",
      "tripod_canopy_2020_211013_135616_15ms.png Not matched\n",
      "tripod_canopy_2020_211013_135701_15ms.png Not matched\n",
      "tripod_canopy_2020_211013_135741_15ms.png Not matched\n",
      "tripod_canopy_2020_211013_135823_15ms.png Not matched\n",
      "tripod_canopy_2020_211013_135908_15ms.png Not matched\n",
      "tripod_canopy_2020_211013_141143_15ms.png Not matched\n",
      "tripod_canopy_2020_211013_143729_15ms.png Not matched\n",
      "tripod_canopy_2020_211013_145840_15ms.png Not matched\n",
      "tripod_canopy_2020_211013_151236_15ms.png Not matched\n",
      "tripod_canopy_2020_211013_151741_15ms.png Not matched\n",
      "tripod_canopy_2020_211013_153336_15ms.png Not matched\n",
      "tripod_canopy_2020_211013_154745_15ms.png Not matched\n",
      "tripod_canopy_2020_211013_160159_15ms.png Not matched\n"
     ]
    }
   ],
   "source": [
    "\n",
    "for label in list_mask_labels:\n",
    "    matched = False\n",
    "    for img in list_rgb_images:\n",
    "        if label[:-4] in img:\n",
    "            matched = True\n",
    "    print(f\"{label} Not matched\")\n",
    "            # print(f\"{label} was not matched\")\n",
    "            # print(f\"found: {img} matched to {label}\")\n",
    "            # img_labelMatch = cv2.imread(join(path_rgbDir,label))\n",
    "            # cv2.imwrite(join('C:\\\\Users\\\\15593\\\\Documents\\\\repos\\\\hyperspectral\\\\TripodAnalysis\\\\SegNet\\\\IOP6_Train_Mask_Labels',label), img_labelMatch)"
   ]
  },
  {
   "cell_type": "code",
   "execution_count": 9,
   "metadata": {},
   "outputs": [
    {
     "name": "stdout",
     "output_type": "stream",
     "text": [
      "length of rgb list: 407 masks: 250 \n"
     ]
    }
   ],
   "source": [
    "print(f\"length of rgb list: {str(len(list_rgb_images))} masks: {str(len(list_mask_labels))} \")"
   ]
  },
  {
   "cell_type": "code",
   "execution_count": 10,
   "metadata": {},
   "outputs": [
    {
     "data": {
      "text/plain": [
       "'tripod_canopy_2020_211013_090540_15ms'"
      ]
     },
     "execution_count": 10,
     "metadata": {},
     "output_type": "execute_result"
    }
   ],
   "source": [
    "list_rgb_images[0][:-4]"
   ]
  }
 ],
 "metadata": {
  "interpreter": {
   "hash": "3bfd3ffbcef790978b5a84f331e3e903418680a492b941bb11c63f5300ed7085"
  },
  "kernelspec": {
   "display_name": "Python 3.9.5 64-bit",
   "language": "python",
   "name": "python3"
  },
  "language_info": {
   "codemirror_mode": {
    "name": "ipython",
    "version": 3
   },
   "file_extension": ".py",
   "mimetype": "text/x-python",
   "name": "python",
   "nbconvert_exporter": "python",
   "pygments_lexer": "ipython3",
   "version": "3.9.5"
  },
  "orig_nbformat": 4
 },
 "nbformat": 4,
 "nbformat_minor": 2
}
