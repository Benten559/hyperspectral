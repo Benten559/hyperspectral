{
 "cells": [
  {
   "cell_type": "code",
   "execution_count": 20,
   "metadata": {},
   "outputs": [],
   "source": [
    "# to do:\n",
    "# get a list of all the drone image files\n",
    "mypath = \"V:\\\\Data\\\\St_Supery\\\\IOP3_July2021\\\\Tripod\\\\tripod_canopy_2020_340917_032925\\\\canopy_lb_2020_25ms\\\\canopy_lb_2020_25ms_000000\"\n",
    "from os import listdir\n",
    "from os.path import isfile,isdir, join\n",
    "imageFolder = listdir(mypath) # Gets all image folder directories"
   ]
  },
  {
   "cell_type": "code",
   "execution_count": 21,
   "metadata": {},
   "outputs": [
    {
     "data": {
      "text/plain": [
       "['500.0_canopy_lb_2020_25ms_340917_032925_863.png',\n",
       " '501.7_canopy_lb_2020_25ms_340917_032925_889.png',\n",
       " '503.3_canopy_lb_2020_25ms_340917_032925_915.png']"
      ]
     },
     "execution_count": 21,
     "metadata": {},
     "output_type": "execute_result"
    }
   ],
   "source": [
    "imageFolder[0:3]"
   ]
  },
  {
   "cell_type": "code",
   "execution_count": 22,
   "metadata": {},
   "outputs": [],
   "source": [
    "# i_hdr_path = mypath + \"\\\\\" + imageFolder[0] # the image subdir\n",
    "# print(i_hdr_path)\n",
    "i_hdr_filename = [f for f in imageFolder if f[-3:] == 'hdr'][0] # the name of the hdr file"
   ]
  },
  {
   "cell_type": "code",
   "execution_count": 23,
   "metadata": {},
   "outputs": [
    {
     "data": {
      "text/plain": [
       "'canopy_lb_2020_25ms_000000.hdr'"
      ]
     },
     "execution_count": 23,
     "metadata": {},
     "output_type": "execute_result"
    }
   ],
   "source": [
    "i_hdr_filename"
   ]
  },
  {
   "cell_type": "code",
   "execution_count": 24,
   "metadata": {},
   "outputs": [
    {
     "data": {
      "text/plain": [
       "True"
      ]
     },
     "execution_count": 24,
     "metadata": {},
     "output_type": "execute_result"
    }
   ],
   "source": [
    "i_fullhdr_path = join(mypath,i_hdr_filename) # the hdr which will be opened\n",
    "isfile(i_fullhdr_path)"
   ]
  },
  {
   "cell_type": "code",
   "execution_count": 25,
   "metadata": {},
   "outputs": [],
   "source": [
    "hdr = open(i_fullhdr_path)\n",
    "#hdr = open(\"V:\\\\Data\\\\St_Supery\\\\IOP3_July2021\\\\drone\\\\5ms_40b_wide_210728_140656\\\\drone_40b_wide 2\\\\drone_40b_wide 2_000018\\\\drone_40b_wide 2_000018.hdr\", \"r\" )"
   ]
  },
  {
   "cell_type": "code",
   "execution_count": 26,
   "metadata": {},
   "outputs": [],
   "source": [
    "test = hdr.readlines()\n"
   ]
  },
  {
   "cell_type": "code",
   "execution_count": null,
   "metadata": {},
   "outputs": [],
   "source": [
    "test[23].split('=') #the problematic point loaded"
   ]
  },
  {
   "cell_type": "code",
   "execution_count": null,
   "metadata": {},
   "outputs": [],
   "source": [
    "test[23].split('=')"
   ]
  },
  {
   "cell_type": "code",
   "execution_count": 27,
   "metadata": {},
   "outputs": [],
   "source": [
    "test_split = test[23].split('=') # removes the row index tile \"senop gps =\" from original .hdr"
   ]
  },
  {
   "cell_type": "code",
   "execution_count": null,
   "metadata": {},
   "outputs": [],
   "source": [
    "test_split[1].split('{')[1]"
   ]
  },
  {
   "cell_type": "code",
   "execution_count": 29,
   "metadata": {},
   "outputs": [],
   "source": [
    "test_split = test_split[1].split('{')[1] # removes the first enclosing curly bracket"
   ]
  },
  {
   "cell_type": "code",
   "execution_count": null,
   "metadata": {},
   "outputs": [],
   "source": [
    "test_split.split('}')[0]"
   ]
  },
  {
   "cell_type": "code",
   "execution_count": 30,
   "metadata": {},
   "outputs": [],
   "source": [
    "test_split = test_split.split('}')[0] # removes the last enclosing curly bracket"
   ]
  },
  {
   "cell_type": "code",
   "execution_count": null,
   "metadata": {},
   "outputs": [],
   "source": [
    "test_split.split(\"$GNRMC,\")[1:] # problematic point"
   ]
  },
  {
   "cell_type": "code",
   "execution_count": null,
   "metadata": {},
   "outputs": [],
   "source": [
    "test_split.split(\"$GNRMC,\")[1:]"
   ]
  },
  {
   "cell_type": "code",
   "execution_count": 31,
   "metadata": {},
   "outputs": [],
   "source": [
    "test_split = test_split.split(\"$GNRMC,\")[1:] # removes the empty space at front, each line is now ready to parse\n",
    "# Format: \n",
    "# Standard: $--RMC,hhmmss.sss,x,llll.lll,a,yyyyy.yyy,a,x.x,u.u,xxxxxx,,,v*hh<CR><LF>\n",
    "# Actual: hhmmss.sss,x,llll.lll,a,yyyyy.yyy,a,x.x,u.u,xxxxxx,,,v*hh<CR><LF>"
   ]
  },
  {
   "cell_type": "code",
   "execution_count": 32,
   "metadata": {},
   "outputs": [
    {
     "name": "stdout",
     "output_type": "stream",
     "text": [
      "Latitude:3827.3749\n",
      "Longitude: 12224.6573\n",
      "Parsed from: 172523,A,3827.3749,N,12224.6573,W,0.0824,157.719,290721,,*35\",\"\n"
     ]
    }
   ],
   "source": [
    "# this is dddmm.mmmm format\n",
    "print(\"Latitude:\" + test_split[1][9:18])\n",
    "print(\"Longitude: \" + test_split[1][21:31])\n",
    "print(\"Parsed from: \" +test_split[1])\n",
    "latitudeUnformated = test_split[1][9:18]\n",
    "longitudeUnformated = test_split[1][21:31]\n",
    "\n",
    "#test_split = test_split.split('$GNRMC')[1:] # Removing the front non-coordinate data\n",
    "#len(test_split)\n",
    "#print(test_split[2758])\n",
    "#print(test_split[:1])\n"
   ]
  },
  {
   "cell_type": "code",
   "execution_count": 33,
   "metadata": {},
   "outputs": [
    {
     "name": "stdout",
     "output_type": "stream",
     "text": [
      "36.80919666666667\n"
     ]
    }
   ],
   "source": [
    "\n",
    "# Utility functions\n",
    "def dm(x):\n",
    "    degrees = int(x) // 100\n",
    "    minutes = x - 100*degrees\n",
    "\n",
    "    return degrees, minutes\n",
    "\n",
    "def decimal_degrees(degrees, minutes):\n",
    "    return degrees + minutes/60 \n",
    "\n",
    "print (decimal_degrees(*dm(3648.5518)))"
   ]
  },
  {
   "cell_type": "code",
   "execution_count": 34,
   "metadata": {},
   "outputs": [
    {
     "name": "stdout",
     "output_type": "stream",
     "text": [
      "Unformatted: 3827.3749\n",
      "Unformatted: 12224.6573\n",
      "Latitude: 38.45624833333333\n",
      "Longitude: 122.41095500000002\n"
     ]
    }
   ],
   "source": [
    "# Fully formatted lat/long\n",
    "## LOOP Logic\n",
    "print(\"Unformatted: \" +latitudeUnformated)\n",
    "print(\"Unformatted: \" +longitudeUnformated)\n",
    "#int(latitudeUnformated)\n",
    "infoLat = dm(float(latitudeUnformated))\n",
    "infoLong = dm(float(longitudeUnformated))\n",
    "degLat, minutesLat = infoLat[0],infoLat[1]\n",
    "degLong, minutesLong =infoLong[0],infoLong[1]\n",
    "Latitude = decimal_degrees(degLat, minutesLat)\n",
    "Longitude = decimal_degrees(degLong, minutesLong)\n",
    "print(\"Latitude: \" +str(Latitude))\n",
    "print(\"Longitude: \" + str(Longitude))"
   ]
  },
  {
   "cell_type": "code",
   "execution_count": 36,
   "metadata": {},
   "outputs": [
    {
     "data": {
      "text/plain": [
       "'172523,A,3827.3749,N,12224.6573,W,0.0824,157.719,290721,,*35\",\"'"
      ]
     },
     "execution_count": 36,
     "metadata": {},
     "output_type": "execute_result"
    }
   ],
   "source": [
    "# To do:\n",
    "# BREAK THIS APART USING LOGIC, NOT HARD CODE\n",
    "test_split[0] \n"
   ]
  },
  {
   "cell_type": "code",
   "execution_count": 39,
   "metadata": {},
   "outputs": [
    {
     "data": {
      "text/plain": [
       "['172523',\n",
       " 'A',\n",
       " '3827.3749',\n",
       " 'N',\n",
       " '12224.6573',\n",
       " 'W',\n",
       " '0.0824',\n",
       " '157.719',\n",
       " '290721',\n",
       " '',\n",
       " '*35\"',\n",
       " '\"']"
      ]
     },
     "execution_count": 39,
     "metadata": {},
     "output_type": "execute_result"
    }
   ],
   "source": [
    "tempArr = test_split[0].split(',')\n",
    "tempArr"
   ]
  },
  {
   "cell_type": "code",
   "execution_count": 41,
   "metadata": {},
   "outputs": [
    {
     "name": "stdout",
     "output_type": "stream",
     "text": [
      "Unformatted Lat: 3827.3749\n",
      "Unformatted Long: 12224.6573\n"
     ]
    }
   ],
   "source": [
    "print(\"Unformatted Lat: \" + tempArr[2])\n",
    "print(\"Unformatted Long: \" + tempArr[4])"
   ]
  }
 ],
 "metadata": {
  "interpreter": {
   "hash": "3bfd3ffbcef790978b5a84f331e3e903418680a492b941bb11c63f5300ed7085"
  },
  "kernelspec": {
   "display_name": "Python 3.9.5 64-bit",
   "name": "python3"
  },
  "language_info": {
   "codemirror_mode": {
    "name": "ipython",
    "version": 3
   },
   "file_extension": ".py",
   "mimetype": "text/x-python",
   "name": "python",
   "nbconvert_exporter": "python",
   "pygments_lexer": "ipython3",
   "version": "3.9.5"
  },
  "orig_nbformat": 4
 },
 "nbformat": 4,
 "nbformat_minor": 2
}
