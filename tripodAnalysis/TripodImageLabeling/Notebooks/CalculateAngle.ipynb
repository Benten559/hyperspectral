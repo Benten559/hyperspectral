{
 "cells": [
  {
   "cell_type": "code",
   "execution_count": 1,
   "metadata": {},
   "outputs": [],
   "source": [
    "import pandas as pd\n",
    "import numpy\n",
    "df_orderme = pd.read_csv('..\\\\TripodImage_avgX_avgY_DT.csv')"
   ]
  },
  {
   "cell_type": "code",
   "execution_count": 12,
   "metadata": {},
   "outputs": [],
   "source": [
    "df_orderme = df_orderme.sort_values(by='DT',ascending=True)\n",
    "df_orderme['degree'] = ''\n",
    "for i in range( len(df_orderme)-1 ):\n",
    "    xDiff = df_orderme.iloc[i,1] - df_orderme.iloc[i+1,1]\n",
    "    yDiff = df_orderme.iloc[i,2] - df_orderme.iloc[i+1,2]\n",
    "    atan2 = numpy.arctan2(xDiff,yDiff)\n",
    "    df_orderme.iloc[i,4] = atan2\n",
    "df_orderme.to_csv(\"TripodImage_avgX_avgY_DT_Angle.csv\",index=False)\n",
    "\n",
    "# df_orderme.sort_values(by='DT',ascending=False).head()"
   ]
  }
 ],
 "metadata": {
  "interpreter": {
   "hash": "3bfd3ffbcef790978b5a84f331e3e903418680a492b941bb11c63f5300ed7085"
  },
  "kernelspec": {
   "display_name": "Python 3.9.5 64-bit",
   "name": "python3"
  },
  "language_info": {
   "codemirror_mode": {
    "name": "ipython",
    "version": 3
   },
   "file_extension": ".py",
   "mimetype": "text/x-python",
   "name": "python",
   "nbconvert_exporter": "python",
   "pygments_lexer": "ipython3",
   "version": "3.9.5"
  },
  "orig_nbformat": 4
 },
 "nbformat": 4,
 "nbformat_minor": 2
}
