{
 "cells": [
  {
   "cell_type": "code",
   "execution_count": 1,
   "metadata": {},
   "outputs": [],
   "source": [
    "import pandas as pd\n",
    "# Constructs a .CSV as input for PointConnector plugin for QGIS\n"
   ]
  },
  {
   "cell_type": "code",
   "execution_count": 2,
   "metadata": {},
   "outputs": [],
   "source": [
    "# work to create a dict class\n",
    "dict_plants = dict()\n"
   ]
  },
  {
   "cell_type": "code",
   "execution_count": null,
   "metadata": {},
   "outputs": [],
   "source": [
    "# Concept that will be used to make vertices and edges of directed graph\n",
    "for i in range(len(df_plants)):\n",
    "    pName = str(df_plants.iloc[i,2])\n",
    "    dict_plants[pName] = list()\n",
    "#print(len(dict_plants.keys()))\n",
    "for k in dict_plants.keys():\n",
    "    dict_plants[k].extend([1])\n",
    "    print(str(k))"
   ]
  },
  {
   "cell_type": "code",
   "execution_count": 59,
   "metadata": {},
   "outputs": [
    {
     "data": {
      "text/plain": [
       "Series([], Name: Name, dtype: int64)"
      ]
     },
     "execution_count": 59,
     "metadata": {},
     "output_type": "execute_result"
    }
   ],
   "source": [
    "# df_plants.columns.get_loc(\"Name\")\n",
    "# df_plants.reset_index().head()\n",
    "# df_plants[df_plants['Name'] == 501].iloc[0]\n",
    "df_plants.loc[df_plants['Name'] == 501,'Name']\n",
    "# df_plants.head()"
   ]
  },
  {
   "cell_type": "code",
   "execution_count": 3,
   "metadata": {},
   "outputs": [],
   "source": [
    "#Load the images and plant csv's\n",
    "\n",
    "# matched plantID with Image Coords, \"Bens\" means i manually labeled several points believed to be a standard\n",
    "df_matched =  pd.read_csv(\"..\\\\CSV\\\\SourceSheets\\\\Bens_WORKFILE_ST_07.csv\")#(\"WORKFILE_ST_07.csv\") \n",
    "# the plant id and coords\n",
    "df_plants = pd.read_csv('..\\\\CSV\\\\SourceSheets\\\\LeafLocations.csv')\n",
    "# The angle calculated from each time-ordered subsequent point:\n",
    "df_imgWangle = pd.read_csv('..\\\\CSV\\\\CalculatedSheets\\\\AvgCoordinates_Degrees2.csv')\n",
    "# the point where a picture was taken\n",
    "# df_image_points = pd.read_csv('IOP3_July2021_image_gps.csv')\n",
    "df_image_pointsAVG = pd.read_csv('..\\\\CSV\\\\CalculatedSheets\\\\TripodAvgGPS1.csv') "
   ]
  },
  {
   "cell_type": "code",
   "execution_count": 25,
   "metadata": {},
   "outputs": [
    {
     "data": {
      "text/html": [
       "<div>\n",
       "<style scoped>\n",
       "    .dataframe tbody tr th:only-of-type {\n",
       "        vertical-align: middle;\n",
       "    }\n",
       "\n",
       "    .dataframe tbody tr th {\n",
       "        vertical-align: top;\n",
       "    }\n",
       "\n",
       "    .dataframe thead th {\n",
       "        text-align: right;\n",
       "    }\n",
       "</style>\n",
       "<table border=\"1\" class=\"dataframe\">\n",
       "  <thead>\n",
       "    <tr style=\"text-align: right;\">\n",
       "      <th></th>\n",
       "      <th>img_id</th>\n",
       "      <th>latitude</th>\n",
       "      <th>longitude</th>\n",
       "      <th>degree</th>\n",
       "    </tr>\n",
       "  </thead>\n",
       "  <tbody>\n",
       "    <tr>\n",
       "      <th>0</th>\n",
       "      <td>tripod_canopy_2020_210727_144827</td>\n",
       "      <td>38.456153</td>\n",
       "      <td>-122.412243</td>\n",
       "      <td>-2.713581</td>\n",
       "    </tr>\n",
       "    <tr>\n",
       "      <th>1</th>\n",
       "      <td>tripod_canopy_2020_210727_144949</td>\n",
       "      <td>38.456156</td>\n",
       "      <td>-122.412236</td>\n",
       "      <td>0.482830</td>\n",
       "    </tr>\n",
       "    <tr>\n",
       "      <th>2</th>\n",
       "      <td>tripod_canopy_2020_210727_145105</td>\n",
       "      <td>38.456149</td>\n",
       "      <td>-122.412248</td>\n",
       "      <td>-1.758535</td>\n",
       "    </tr>\n",
       "    <tr>\n",
       "      <th>3</th>\n",
       "      <td>tripod_canopy_2020_210727_145248</td>\n",
       "      <td>38.456425</td>\n",
       "      <td>-122.412195</td>\n",
       "      <td>-2.586930</td>\n",
       "    </tr>\n",
       "    <tr>\n",
       "      <th>4</th>\n",
       "      <td>tripod_canopy_2020_210727_145449</td>\n",
       "      <td>38.456576</td>\n",
       "      <td>-122.411951</td>\n",
       "      <td>-2.701490</td>\n",
       "    </tr>\n",
       "  </tbody>\n",
       "</table>\n",
       "</div>"
      ],
      "text/plain": [
       "                             img_id   latitude   longitude    degree\n",
       "0  tripod_canopy_2020_210727_144827  38.456153 -122.412243 -2.713581\n",
       "1  tripod_canopy_2020_210727_144949  38.456156 -122.412236  0.482830\n",
       "2  tripod_canopy_2020_210727_145105  38.456149 -122.412248 -1.758535\n",
       "3  tripod_canopy_2020_210727_145248  38.456425 -122.412195 -2.586930\n",
       "4  tripod_canopy_2020_210727_145449  38.456576 -122.411951 -2.701490"
      ]
     },
     "execution_count": 25,
     "metadata": {},
     "output_type": "execute_result"
    }
   ],
   "source": [
    "df_imgWangle.head()"
   ]
  },
  {
   "cell_type": "code",
   "execution_count": 4,
   "metadata": {},
   "outputs": [
    {
     "data": {
      "text/html": [
       "<div>\n",
       "<style scoped>\n",
       "    .dataframe tbody tr th:only-of-type {\n",
       "        vertical-align: middle;\n",
       "    }\n",
       "\n",
       "    .dataframe tbody tr th {\n",
       "        vertical-align: top;\n",
       "    }\n",
       "\n",
       "    .dataframe thead th {\n",
       "        text-align: right;\n",
       "    }\n",
       "</style>\n",
       "<table border=\"1\" class=\"dataframe\">\n",
       "  <thead>\n",
       "    <tr style=\"text-align: right;\">\n",
       "      <th></th>\n",
       "      <th>img_id</th>\n",
       "      <th>latitude</th>\n",
       "      <th>longitude</th>\n",
       "    </tr>\n",
       "  </thead>\n",
       "  <tbody>\n",
       "    <tr>\n",
       "      <th>0</th>\n",
       "      <td>tripod_canopy_2020_210729_112023</td>\n",
       "      <td>38.456326</td>\n",
       "      <td>-122.410642</td>\n",
       "    </tr>\n",
       "    <tr>\n",
       "      <th>1</th>\n",
       "      <td>tripod_canopy_2020_210729_112101</td>\n",
       "      <td>38.456352</td>\n",
       "      <td>-122.410558</td>\n",
       "    </tr>\n",
       "    <tr>\n",
       "      <th>2</th>\n",
       "      <td>tripod_canopy_2020_210729_112145</td>\n",
       "      <td>38.456341</td>\n",
       "      <td>-122.410575</td>\n",
       "    </tr>\n",
       "    <tr>\n",
       "      <th>3</th>\n",
       "      <td>tripod_canopy_2020_210729_112225</td>\n",
       "      <td>38.456262</td>\n",
       "      <td>-122.410726</td>\n",
       "    </tr>\n",
       "    <tr>\n",
       "      <th>4</th>\n",
       "      <td>tripod_canopy_2020_210729_112321</td>\n",
       "      <td>38.456215</td>\n",
       "      <td>-122.410792</td>\n",
       "    </tr>\n",
       "  </tbody>\n",
       "</table>\n",
       "</div>"
      ],
      "text/plain": [
       "                             img_id   latitude   longitude\n",
       "0  tripod_canopy_2020_210729_112023  38.456326 -122.410642\n",
       "1  tripod_canopy_2020_210729_112101  38.456352 -122.410558\n",
       "2  tripod_canopy_2020_210729_112145  38.456341 -122.410575\n",
       "3  tripod_canopy_2020_210729_112225  38.456262 -122.410726\n",
       "4  tripod_canopy_2020_210729_112321  38.456215 -122.410792"
      ]
     },
     "execution_count": 4,
     "metadata": {},
     "output_type": "execute_result"
    }
   ],
   "source": [
    "df_image_pointsAVG.head()"
   ]
  },
  {
   "cell_type": "code",
   "execution_count": null,
   "metadata": {},
   "outputs": [],
   "source": [
    "df_plants.head()"
   ]
  },
  {
   "cell_type": "code",
   "execution_count": 70,
   "metadata": {},
   "outputs": [],
   "source": [
    "## Creates a joined spreadsheet of both images and plant locations\n",
    "##\n",
    "#df_plants.head()\n",
    "df_joinP = df_plants[['Name','X','Y']]\n",
    "#df_image_points.head()\n",
    "df_joinI = df_image_points[['img_id','latitude','longitude']]\n",
    "df_joinI['Name'] = df_joinI['img_id']\n",
    "df_joinI['Y'] = df_joinI['latitude']\n",
    "df_joinI['X'] = df_joinI['longitude']\n",
    "df_joinI = df_joinI[['Name','X','Y']]\n",
    "# df_joinI.rename(columns={\"img_id\":\"Name\",\"latitude\":\"Y\",\"longitude\":\"X\"})\n",
    "bothLists = pd.concat([df_joinI,df_joinP])\n",
    "bothLists.to_csv('Img_Plants.csv', index=False)\n",
    "\n"
   ]
  },
  {
   "cell_type": "code",
   "execution_count": 5,
   "metadata": {},
   "outputs": [
    {
     "name": "stdout",
     "output_type": "stream",
     "text": [
      "463rows before std filter\n",
      "415 rows after std filter\n"
     ]
    },
    {
     "data": {
      "text/html": [
       "<div>\n",
       "<style scoped>\n",
       "    .dataframe tbody tr th:only-of-type {\n",
       "        vertical-align: middle;\n",
       "    }\n",
       "\n",
       "    .dataframe tbody tr th {\n",
       "        vertical-align: top;\n",
       "    }\n",
       "\n",
       "    .dataframe thead th {\n",
       "        text-align: right;\n",
       "    }\n",
       "</style>\n",
       "<table border=\"1\" class=\"dataframe\">\n",
       "  <thead>\n",
       "    <tr style=\"text-align: right;\">\n",
       "      <th></th>\n",
       "      <th>Image</th>\n",
       "      <th>X</th>\n",
       "      <th>Y</th>\n",
       "      <th>DT</th>\n",
       "      <th>Unnamed: 4</th>\n",
       "      <th>Plant #</th>\n",
       "      <th>Unnamed: 6</th>\n",
       "      <th>Unnamed: 7</th>\n",
       "    </tr>\n",
       "  </thead>\n",
       "  <tbody>\n",
       "    <tr>\n",
       "      <th>3</th>\n",
       "      <td>tripod_canopy_2020_210727_145248</td>\n",
       "      <td>-122.412193</td>\n",
       "      <td>38.456420</td>\n",
       "      <td>2021-07-27 14:52:49 PDT</td>\n",
       "      <td>NaN</td>\n",
       "      <td>501</td>\n",
       "      <td>NaN</td>\n",
       "      <td>NaN</td>\n",
       "    </tr>\n",
       "    <tr>\n",
       "      <th>4</th>\n",
       "      <td>tripod_canopy_2020_210727_145449</td>\n",
       "      <td>-122.411958</td>\n",
       "      <td>38.456578</td>\n",
       "      <td>2021-07-27 14:54:50 PDT</td>\n",
       "      <td>NaN</td>\n",
       "      <td>502</td>\n",
       "      <td>NaN</td>\n",
       "      <td>NaN</td>\n",
       "    </tr>\n",
       "    <tr>\n",
       "      <th>5</th>\n",
       "      <td>tripod_canopy_2020_210727_145546</td>\n",
       "      <td>-122.411795</td>\n",
       "      <td>38.456653</td>\n",
       "      <td>2021-07-27 14:55:50 PDT</td>\n",
       "      <td>NaN</td>\n",
       "      <td>503</td>\n",
       "      <td>NaN</td>\n",
       "      <td>NaN</td>\n",
       "    </tr>\n",
       "    <tr>\n",
       "      <th>6</th>\n",
       "      <td>tripod_canopy_2020_210727_145634</td>\n",
       "      <td>-122.411618</td>\n",
       "      <td>38.456755</td>\n",
       "      <td>2021-07-27 14:56:33 PDT</td>\n",
       "      <td>NaN</td>\n",
       "      <td>504</td>\n",
       "      <td>NaN</td>\n",
       "      <td>NaN</td>\n",
       "    </tr>\n",
       "    <tr>\n",
       "      <th>7</th>\n",
       "      <td>tripod_canopy_2020_210727_145727</td>\n",
       "      <td>-122.411370</td>\n",
       "      <td>38.456907</td>\n",
       "      <td>2021-07-27 14:57:27 PDT</td>\n",
       "      <td>NaN</td>\n",
       "      <td>505</td>\n",
       "      <td>NaN</td>\n",
       "      <td>NaN</td>\n",
       "    </tr>\n",
       "  </tbody>\n",
       "</table>\n",
       "</div>"
      ],
      "text/plain": [
       "                              Image           X          Y  \\\n",
       "3  tripod_canopy_2020_210727_145248 -122.412193  38.456420   \n",
       "4  tripod_canopy_2020_210727_145449 -122.411958  38.456578   \n",
       "5  tripod_canopy_2020_210727_145546 -122.411795  38.456653   \n",
       "6  tripod_canopy_2020_210727_145634 -122.411618  38.456755   \n",
       "7  tripod_canopy_2020_210727_145727 -122.411370  38.456907   \n",
       "\n",
       "                        DT  Unnamed: 4 Plant # Unnamed: 6 Unnamed: 7  \n",
       "3  2021-07-27 14:52:49 PDT         NaN     501        NaN        NaN  \n",
       "4  2021-07-27 14:54:50 PDT         NaN     502        NaN        NaN  \n",
       "5  2021-07-27 14:55:50 PDT         NaN     503        NaN        NaN  \n",
       "6  2021-07-27 14:56:33 PDT         NaN     504        NaN        NaN  \n",
       "7  2021-07-27 14:57:27 PDT         NaN     505        NaN        NaN  "
      ]
     },
     "execution_count": 5,
     "metadata": {},
     "output_type": "execute_result"
    }
   ],
   "source": [
    "## This removes all the images of Standards, Only plants images remain\n",
    "print(str(len(df_matched))+ \"rows before std filter\")\n",
    "\n",
    "df_matched = df_matched[df_matched['Plant #']!= 'STD']\n",
    "print(str(len(df_matched))+\" rows after std filter\")\n",
    "df_matched.head()"
   ]
  },
  {
   "cell_type": "code",
   "execution_count": 6,
   "metadata": {},
   "outputs": [
    {
     "name": "stdout",
     "output_type": "stream",
     "text": [
      "The length of the left df: 415\n",
      "Length of right: 464\n",
      "Final length: 415\n"
     ]
    },
    {
     "data": {
      "text/html": [
       "<div>\n",
       "<style scoped>\n",
       "    .dataframe tbody tr th:only-of-type {\n",
       "        vertical-align: middle;\n",
       "    }\n",
       "\n",
       "    .dataframe tbody tr th {\n",
       "        vertical-align: top;\n",
       "    }\n",
       "\n",
       "    .dataframe thead th {\n",
       "        text-align: right;\n",
       "    }\n",
       "</style>\n",
       "<table border=\"1\" class=\"dataframe\">\n",
       "  <thead>\n",
       "    <tr style=\"text-align: right;\">\n",
       "      <th></th>\n",
       "      <th>Image</th>\n",
       "      <th>X</th>\n",
       "      <th>Y</th>\n",
       "      <th>DT</th>\n",
       "      <th>degree</th>\n",
       "    </tr>\n",
       "  </thead>\n",
       "  <tbody>\n",
       "    <tr>\n",
       "      <th>0</th>\n",
       "      <td>tripod_canopy_2020_210727_145248</td>\n",
       "      <td>-122.412193</td>\n",
       "      <td>38.456420</td>\n",
       "      <td>2021-07-27 14:52:49 PDT</td>\n",
       "      <td>-2.586930</td>\n",
       "    </tr>\n",
       "    <tr>\n",
       "      <th>1</th>\n",
       "      <td>tripod_canopy_2020_210727_145449</td>\n",
       "      <td>-122.411958</td>\n",
       "      <td>38.456578</td>\n",
       "      <td>2021-07-27 14:54:50 PDT</td>\n",
       "      <td>-2.701490</td>\n",
       "    </tr>\n",
       "    <tr>\n",
       "      <th>2</th>\n",
       "      <td>tripod_canopy_2020_210727_145546</td>\n",
       "      <td>-122.411795</td>\n",
       "      <td>38.456653</td>\n",
       "      <td>2021-07-27 14:55:50 PDT</td>\n",
       "      <td>-2.589741</td>\n",
       "    </tr>\n",
       "    <tr>\n",
       "      <th>3</th>\n",
       "      <td>tripod_canopy_2020_210727_145634</td>\n",
       "      <td>-122.411618</td>\n",
       "      <td>38.456755</td>\n",
       "      <td>2021-07-27 14:56:33 PDT</td>\n",
       "      <td>-2.615097</td>\n",
       "    </tr>\n",
       "    <tr>\n",
       "      <th>4</th>\n",
       "      <td>tripod_canopy_2020_210727_145727</td>\n",
       "      <td>-122.411370</td>\n",
       "      <td>38.456907</td>\n",
       "      <td>2021-07-27 14:57:27 PDT</td>\n",
       "      <td>-2.704317</td>\n",
       "    </tr>\n",
       "  </tbody>\n",
       "</table>\n",
       "</div>"
      ],
      "text/plain": [
       "                              Image           X          Y  \\\n",
       "0  tripod_canopy_2020_210727_145248 -122.412193  38.456420   \n",
       "1  tripod_canopy_2020_210727_145449 -122.411958  38.456578   \n",
       "2  tripod_canopy_2020_210727_145546 -122.411795  38.456653   \n",
       "3  tripod_canopy_2020_210727_145634 -122.411618  38.456755   \n",
       "4  tripod_canopy_2020_210727_145727 -122.411370  38.456907   \n",
       "\n",
       "                        DT    degree  \n",
       "0  2021-07-27 14:52:49 PDT -2.586930  \n",
       "1  2021-07-27 14:54:50 PDT -2.701490  \n",
       "2  2021-07-27 14:55:50 PDT -2.589741  \n",
       "3  2021-07-27 14:56:33 PDT -2.615097  \n",
       "4  2021-07-27 14:57:27 PDT -2.704317  "
      ]
     },
     "execution_count": 6,
     "metadata": {},
     "output_type": "execute_result"
    }
   ],
   "source": [
    "## Creates a full dataframe for matching values\n",
    "# Notes on df:\n",
    "# \n",
    "df_imgWtime = df_matched.merge(df_image_pointsAVG,left_on='Image',right_on='img_id')\n",
    "df_imgWtime = df_imgWtime.merge(df_imgWangle,left_on='Image',right_on='img_id',how='left')\n",
    "df_imgWtime = df_imgWtime[['Image','X','Y','DT','degree']]\n",
    "print(\"The length of the left df: \"+str(len(df_matched)))\n",
    "print(\"Length of right: \"+str(len(df_image_points)))\n",
    "print(\"Final length: \"+str(len(df_imgWtime)))\n",
    "df_imgWtime.head()\n",
    "#df_imgWtime.to_csv('..\\\\CSV\\\\CalculatedSheets\\\\ImageLocation')\n",
    "# This still needs the angle"
   ]
  },
  {
   "cell_type": "code",
   "execution_count": 7,
   "metadata": {},
   "outputs": [],
   "source": [
    "# df_imgWtime = df_imgWtime[['Image','X','Y','DT']]\n",
    "df_imgWtime.to_csv('TripodAvgTimeAngle.csv',index=False)"
   ]
  },
  {
   "cell_type": "code",
   "execution_count": 41,
   "metadata": {},
   "outputs": [
    {
     "data": {
      "text/plain": [
       "416"
      ]
     },
     "execution_count": 41,
     "metadata": {},
     "output_type": "execute_result"
    }
   ],
   "source": [
    "# within df_matched, there currently exists 48 images marked as STD\n",
    "# and 416 which are matches \n",
    "len(df_matched[df_matched['Plant #'] != 'STD'].values)"
   ]
  },
  {
   "cell_type": "code",
   "execution_count": 9,
   "metadata": {},
   "outputs": [],
   "source": [
    "\n",
    "\n",
    "#import PlantLabel\n",
    "df_imageData = df_matched[df_matched['Plant #'] != 'STD']\n"
   ]
  },
  {
   "cell_type": "code",
   "execution_count": 12,
   "metadata": {},
   "outputs": [
    {
     "data": {
      "text/html": [
       "<div>\n",
       "<style scoped>\n",
       "    .dataframe tbody tr th:only-of-type {\n",
       "        vertical-align: middle;\n",
       "    }\n",
       "\n",
       "    .dataframe tbody tr th {\n",
       "        vertical-align: top;\n",
       "    }\n",
       "\n",
       "    .dataframe thead th {\n",
       "        text-align: right;\n",
       "    }\n",
       "</style>\n",
       "<table border=\"1\" class=\"dataframe\">\n",
       "  <thead>\n",
       "    <tr style=\"text-align: right;\">\n",
       "      <th></th>\n",
       "      <th>img_id</th>\n",
       "      <th>latitude</th>\n",
       "      <th>longitude</th>\n",
       "      <th>test</th>\n",
       "    </tr>\n",
       "  </thead>\n",
       "  <tbody>\n",
       "    <tr>\n",
       "      <th>0</th>\n",
       "      <td>tripod_canopy_2020_210729_112023</td>\n",
       "      <td>38.456326</td>\n",
       "      <td>-122.410642</td>\n",
       "      <td>39.456326</td>\n",
       "    </tr>\n",
       "    <tr>\n",
       "      <th>1</th>\n",
       "      <td>tripod_canopy_2020_210729_112101</td>\n",
       "      <td>38.456352</td>\n",
       "      <td>-122.410558</td>\n",
       "      <td>39.456352</td>\n",
       "    </tr>\n",
       "    <tr>\n",
       "      <th>2</th>\n",
       "      <td>tripod_canopy_2020_210729_112145</td>\n",
       "      <td>38.456341</td>\n",
       "      <td>-122.410575</td>\n",
       "      <td>39.456341</td>\n",
       "    </tr>\n",
       "    <tr>\n",
       "      <th>3</th>\n",
       "      <td>tripod_canopy_2020_210729_112225</td>\n",
       "      <td>38.456262</td>\n",
       "      <td>-122.410726</td>\n",
       "      <td>39.456262</td>\n",
       "    </tr>\n",
       "    <tr>\n",
       "      <th>4</th>\n",
       "      <td>tripod_canopy_2020_210729_112321</td>\n",
       "      <td>38.456215</td>\n",
       "      <td>-122.410792</td>\n",
       "      <td>39.456215</td>\n",
       "    </tr>\n",
       "  </tbody>\n",
       "</table>\n",
       "</div>"
      ],
      "text/plain": [
       "                             img_id   latitude   longitude       test\n",
       "0  tripod_canopy_2020_210729_112023  38.456326 -122.410642  39.456326\n",
       "1  tripod_canopy_2020_210729_112101  38.456352 -122.410558  39.456352\n",
       "2  tripod_canopy_2020_210729_112145  38.456341 -122.410575  39.456341\n",
       "3  tripod_canopy_2020_210729_112225  38.456262 -122.410726  39.456262\n",
       "4  tripod_canopy_2020_210729_112321  38.456215 -122.410792  39.456215"
      ]
     },
     "execution_count": 12,
     "metadata": {},
     "output_type": "execute_result"
    }
   ],
   "source": [
    "df_image_pointsAVG.head()"
   ]
  },
  {
   "cell_type": "code",
   "execution_count": 11,
   "metadata": {},
   "outputs": [],
   "source": [
    "df_image_pointsAVG['test'] = df_image_pointsAVG['latitude'].apply(lambda x : x+1)"
   ]
  },
  {
   "cell_type": "code",
   "execution_count": 5,
   "metadata": {},
   "outputs": [
    {
     "data": {
      "text/html": [
       "<div>\n",
       "<style scoped>\n",
       "    .dataframe tbody tr th:only-of-type {\n",
       "        vertical-align: middle;\n",
       "    }\n",
       "\n",
       "    .dataframe tbody tr th {\n",
       "        vertical-align: top;\n",
       "    }\n",
       "\n",
       "    .dataframe thead th {\n",
       "        text-align: right;\n",
       "    }\n",
       "</style>\n",
       "<table border=\"1\" class=\"dataframe\">\n",
       "  <thead>\n",
       "    <tr style=\"text-align: right;\">\n",
       "      <th></th>\n",
       "      <th>Image</th>\n",
       "      <th>X</th>\n",
       "      <th>Y</th>\n",
       "      <th>DT</th>\n",
       "      <th>Unnamed: 4</th>\n",
       "      <th>Plant #</th>\n",
       "      <th>Unnamed: 6</th>\n",
       "      <th>Unnamed: 7</th>\n",
       "    </tr>\n",
       "  </thead>\n",
       "  <tbody>\n",
       "    <tr>\n",
       "      <th>0</th>\n",
       "      <td>tripod_canopy_2020_210727_144827</td>\n",
       "      <td>-122.412240</td>\n",
       "      <td>38.456152</td>\n",
       "      <td>2021-07-27 14:48:26 PDT</td>\n",
       "      <td>NaN</td>\n",
       "      <td>STD</td>\n",
       "      <td>NaN</td>\n",
       "      <td>NaN</td>\n",
       "    </tr>\n",
       "    <tr>\n",
       "      <th>1</th>\n",
       "      <td>tripod_canopy_2020_210727_144949</td>\n",
       "      <td>-122.412235</td>\n",
       "      <td>38.456157</td>\n",
       "      <td>2021-07-27 14:49:51 PDT</td>\n",
       "      <td>NaN</td>\n",
       "      <td>STD</td>\n",
       "      <td>NaN</td>\n",
       "      <td>NaN</td>\n",
       "    </tr>\n",
       "    <tr>\n",
       "      <th>2</th>\n",
       "      <td>tripod_canopy_2020_210727_145105</td>\n",
       "      <td>-122.412248</td>\n",
       "      <td>38.456150</td>\n",
       "      <td>2021-07-27 14:51:06 PDT</td>\n",
       "      <td>NaN</td>\n",
       "      <td>STD</td>\n",
       "      <td>NaN</td>\n",
       "      <td>NaN</td>\n",
       "    </tr>\n",
       "    <tr>\n",
       "      <th>3</th>\n",
       "      <td>tripod_canopy_2020_210727_145248</td>\n",
       "      <td>-122.412193</td>\n",
       "      <td>38.456420</td>\n",
       "      <td>2021-07-27 14:52:49 PDT</td>\n",
       "      <td>NaN</td>\n",
       "      <td>501</td>\n",
       "      <td>NaN</td>\n",
       "      <td>NaN</td>\n",
       "    </tr>\n",
       "    <tr>\n",
       "      <th>4</th>\n",
       "      <td>tripod_canopy_2020_210727_145449</td>\n",
       "      <td>-122.411958</td>\n",
       "      <td>38.456578</td>\n",
       "      <td>2021-07-27 14:54:50 PDT</td>\n",
       "      <td>NaN</td>\n",
       "      <td>502</td>\n",
       "      <td>NaN</td>\n",
       "      <td>NaN</td>\n",
       "    </tr>\n",
       "  </tbody>\n",
       "</table>\n",
       "</div>"
      ],
      "text/plain": [
       "                              Image           X          Y  \\\n",
       "0  tripod_canopy_2020_210727_144827 -122.412240  38.456152   \n",
       "1  tripod_canopy_2020_210727_144949 -122.412235  38.456157   \n",
       "2  tripod_canopy_2020_210727_145105 -122.412248  38.456150   \n",
       "3  tripod_canopy_2020_210727_145248 -122.412193  38.456420   \n",
       "4  tripod_canopy_2020_210727_145449 -122.411958  38.456578   \n",
       "\n",
       "                        DT  Unnamed: 4 Plant # Unnamed: 6 Unnamed: 7  \n",
       "0  2021-07-27 14:48:26 PDT         NaN     STD        NaN        NaN  \n",
       "1  2021-07-27 14:49:51 PDT         NaN     STD        NaN        NaN  \n",
       "2  2021-07-27 14:51:06 PDT         NaN     STD        NaN        NaN  \n",
       "3  2021-07-27 14:52:49 PDT         NaN     501        NaN        NaN  \n",
       "4  2021-07-27 14:54:50 PDT         NaN     502        NaN        NaN  "
      ]
     },
     "execution_count": 5,
     "metadata": {},
     "output_type": "execute_result"
    }
   ],
   "source": [
    "df_matched.head()"
   ]
  },
  {
   "cell_type": "code",
   "execution_count": 8,
   "metadata": {},
   "outputs": [
    {
     "data": {
      "text/plain": [
       "Image         tripod_canopy_2020_210727_144949\n",
       "X                                  -122.412235\n",
       "Y                                    38.456157\n",
       "DT                     2021-07-27 14:49:51 PDT\n",
       "Unnamed: 4                                 NaN\n",
       "Plant #                                    STD\n",
       "Unnamed: 6                                 NaN\n",
       "Unnamed: 7                                 NaN\n",
       "Name: 1, dtype: object"
      ]
     },
     "execution_count": 8,
     "metadata": {},
     "output_type": "execute_result"
    }
   ],
   "source": [
    "df_matched.iloc[1][1]"
   ]
  },
  {
   "cell_type": "code",
   "execution_count": 17,
   "metadata": {},
   "outputs": [
    {
     "data": {
      "text/plain": [
       "-122.412235"
      ]
     },
     "execution_count": 17,
     "metadata": {},
     "output_type": "execute_result"
    }
   ],
   "source": [
    "df_matched.iloc[1][1]"
   ]
  },
  {
   "cell_type": "code",
   "execution_count": null,
   "metadata": {},
   "outputs": [],
   "source": [
    "df_matched['Plant #'].duplicated()"
   ]
  },
  {
   "cell_type": "code",
   "execution_count": null,
   "metadata": {},
   "outputs": [],
   "source": [
    "df_image_points.count()"
   ]
  },
  {
   "cell_type": "code",
   "execution_count": null,
   "metadata": {},
   "outputs": [],
   "source": [
    "df_matched.head()"
   ]
  },
  {
   "cell_type": "code",
   "execution_count": null,
   "metadata": {},
   "outputs": [],
   "source": [
    "df_plants.count()"
   ]
  },
  {
   "cell_type": "code",
   "execution_count": null,
   "metadata": {},
   "outputs": [],
   "source": [
    "# There appears to be a duplicate in plant name?\n",
    "df_plants.where(df_plants['Name'].duplicated()).dropna()"
   ]
  },
  {
   "cell_type": "code",
   "execution_count": null,
   "metadata": {},
   "outputs": [],
   "source": [
    "df_plants['Name'].where(df_plants['Name'].duplicated()).dropna()"
   ]
  },
  {
   "cell_type": "code",
   "execution_count": null,
   "metadata": {},
   "outputs": [],
   "source": [
    "# *\n",
    "#   Executing this cell displays work completed by matching leaf to drone image.\n",
    "#   First, a process to remove all null fields.\n",
    "# \n",
    "# 1. Collect all non-null fields  \n",
    "#df_matched_p = df_matched[['Plant #','Image','X','Y']]\n",
    "# 2. Change column name to correctly link to joining table\n",
    "#df_matched_p['Name'] = df_matched_p['Plant #']\n",
    "#df_matched_p = df_matched_p[['Name','Image','X','Y']]\n",
    "# 3. Display\n",
    "#df_matched_p.head(3)"
   ]
  },
  {
   "cell_type": "code",
   "execution_count": null,
   "metadata": {},
   "outputs": [],
   "source": [
    "#\n",
    "# # The first UNION PARAMETER\n",
    "#\n",
    "#\n",
    "df_Plant_Locations = df_plants[['Name','X','Y']]\n",
    "#df_Plant_Locations.to_csv('PlantLocationIDXY.csv',index = False)\n",
    "df_Plant_Locations.head()"
   ]
  },
  {
   "cell_type": "code",
   "execution_count": null,
   "metadata": {},
   "outputs": [],
   "source": [
    "#df_image_points.head()"
   ]
  },
  {
   "cell_type": "code",
   "execution_count": null,
   "metadata": {},
   "outputs": [],
   "source": [
    "# \n",
    "#   The second UNION parameter\n",
    "#\n",
    "#df_image_points[['Image','X','Y']].to_csv('Image_GPS_XY.csv',index=False)\n",
    "df_image_locations = df_image_points[['Image','X','Y']]\n",
    "df_image_locations['Name'] = df_image_locations['Image']\n",
    "df_image_locations = df_image_locations[['Name','X','Y']]   \n",
    "df_image_locations.head(5)"
   ]
  },
  {
   "cell_type": "code",
   "execution_count": null,
   "metadata": {},
   "outputs": [],
   "source": [
    "df_source_table = pd.concat([df_Plant_Locations,df_image_locations])\n",
    "df_source_table.columns.value_counts()"
   ]
  },
  {
   "cell_type": "code",
   "execution_count": null,
   "metadata": {},
   "outputs": [],
   "source": [
    "df_source_table.values"
   ]
  },
  {
   "cell_type": "code",
   "execution_count": null,
   "metadata": {},
   "outputs": [],
   "source": [
    "#   This is the base layer that PointConnector will join on using the From, To table.\n",
    "# df_source_table.to_csv('Leaf_AND_Image_Locations.csv',index=False)\n"
   ]
  },
  {
   "cell_type": "code",
   "execution_count": null,
   "metadata": {},
   "outputs": [],
   "source": [
    "#Creates the From,To table parameter\n",
    "FromTo = df_matched[['Image','Plant #']]\n",
    "FromTo.head()\n",
    "FromTo = FromTo[FromTo['Plant #']!='STD']\n",
    "FromTo.value_counts()"
   ]
  },
  {
   "cell_type": "code",
   "execution_count": null,
   "metadata": {},
   "outputs": [],
   "source": [
    "# Write as csv to use in QGIS\n",
    "FromTo.to_csv('FromTo.csv',index=False)"
   ]
  }
 ],
 "metadata": {
  "interpreter": {
   "hash": "3bfd3ffbcef790978b5a84f331e3e903418680a492b941bb11c63f5300ed7085"
  },
  "kernelspec": {
   "display_name": "Python 3.9.5 64-bit",
   "name": "python3"
  },
  "language_info": {
   "codemirror_mode": {
    "name": "ipython",
    "version": 3
   },
   "file_extension": ".py",
   "mimetype": "text/x-python",
   "name": "python",
   "nbconvert_exporter": "python",
   "pygments_lexer": "ipython3",
   "version": "3.9.5"
  },
  "orig_nbformat": 4
 },
 "nbformat": 4,
 "nbformat_minor": 2
}
